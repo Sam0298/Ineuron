{
 "cells": [
  {
   "cell_type": "code",
   "execution_count": null,
   "id": "a4b4a269",
   "metadata": {},
   "outputs": [],
   "source": [
    "# Write a Python program to convert kilometers to miles?"
   ]
  },
  {
   "cell_type": "code",
   "execution_count": 7,
   "id": "2865abe5",
   "metadata": {},
   "outputs": [
    {
     "name": "stdout",
     "output_type": "stream",
     "text": [
      "Enter Kilometers: 10\n",
      "The 10.0 kilometers means 6.213699999999999 miles\n"
     ]
    }
   ],
   "source": [
    "kilometer = float(input(\"Enter Kilometers: \"))\n",
    "\n",
    "miles = kilometer*0.62137\n",
    "\n",
    "if kilometer == 1: \n",
    "    print(f\"The {kilometer} kilometer means {miles} miles\")\n",
    "    \n",
    "else:\n",
    "    print(f\"The {kilometer} kilometers means {miles} miles\")"
   ]
  },
  {
   "cell_type": "code",
   "execution_count": null,
   "id": "92a8999c",
   "metadata": {},
   "outputs": [],
   "source": [
    "# Write a Python program to convert Celsius to Fahrenheit?"
   ]
  },
  {
   "cell_type": "code",
   "execution_count": 10,
   "id": "20449efe",
   "metadata": {},
   "outputs": [
    {
     "name": "stdout",
     "output_type": "stream",
     "text": [
      "Enter the Celcius value: 12.3\n",
      "12.3C is equal to 54.14F\n"
     ]
    }
   ],
   "source": [
    "celcius = float(input(\"Enter the Celcius value: \"))\n",
    "\n",
    "fahrenheit = (celcius*1.8)+32\n",
    "\n",
    "print(f\"{celcius}C is equal to {fahrenheit}F\")"
   ]
  },
  {
   "cell_type": "code",
   "execution_count": null,
   "id": "3ef64129",
   "metadata": {},
   "outputs": [],
   "source": [
    "# Write a Python program to display calendar?"
   ]
  },
  {
   "cell_type": "code",
   "execution_count": 15,
   "id": "37d8098b",
   "metadata": {},
   "outputs": [
    {
     "name": "stdout",
     "output_type": "stream",
     "text": [
      "Enter Year: 1998\n",
      "Enter Month: 12\n",
      "\n",
      "\n",
      "   December 1998\n",
      "Mo Tu We Th Fr Sa Su\n",
      "    1  2  3  4  5  6\n",
      " 7  8  9 10 11 12 13\n",
      "14 15 16 17 18 19 20\n",
      "21 22 23 24 25 26 27\n",
      "28 29 30 31\n",
      "\n"
     ]
    }
   ],
   "source": [
    "import calendar\n",
    "\n",
    "year = int(input(\"Enter Year: \"))\n",
    "month = int(input(\"Enter Month: \"))\n",
    "\n",
    "print(\"\\n\\n\"+calendar.month(year,month))"
   ]
  },
  {
   "cell_type": "code",
   "execution_count": null,
   "id": "560db3cd",
   "metadata": {},
   "outputs": [],
   "source": [
    "# Write a Python program to solve quadratic equation?"
   ]
  },
  {
   "cell_type": "code",
   "execution_count": 4,
   "id": "abbcabc3",
   "metadata": {},
   "outputs": [
    {
     "name": "stdout",
     "output_type": "stream",
     "text": [
      "Enter a:0\n",
      "Enter b:20\n",
      "Enter c:30\n",
      "Input correct quadratic equation\n"
     ]
    }
   ],
   "source": [
    "import math\n",
    "\n",
    "def findRoots(a, b, c):\n",
    "    dis_form = b * b - 4 * a * c  \n",
    "    sqrt_val = math.sqrt(abs(dis_form)) \n",
    "    \n",
    "    if dis_form > 0:  \n",
    "        print(\" real and different roots \")  \n",
    "        print((-b + sqrt_val) / (2 * a))  \n",
    "        print((-b - sqrt_val) / (2 * a))  \n",
    "  \n",
    "    elif dis_form == 0:  \n",
    "        print(\" real and same roots\")  \n",
    "        print(-b / (2 * a))  \n",
    "  \n",
    "  \n",
    "    else:  \n",
    "        print(\"Complex Roots\")  \n",
    "        print(- b / (2 * a), \" + i\", sqrt_val)  \n",
    "        print(- b / (2 * a), \" - i\", sqrt_val)  \n",
    "  \n",
    "  \n",
    "a = int(input('Enter a:'))  \n",
    "b = int(input('Enter b:'))  \n",
    "c = int(input('Enter c:'))  \n",
    "  \n",
    "# If a is 0, then incorrect equation  \n",
    "if a == 0:  \n",
    "    print(\"Input incorrect quadratic equation\")  \n",
    "  \n",
    "else:  \n",
    "    findRoots(a, b, c)  "
   ]
  },
  {
   "cell_type": "code",
   "execution_count": null,
   "id": "94909c71",
   "metadata": {},
   "outputs": [],
   "source": [
    "# Write a Python program to swap two variables without temp variable?"
   ]
  },
  {
   "cell_type": "code",
   "execution_count": 16,
   "id": "85c88bb0",
   "metadata": {},
   "outputs": [
    {
     "name": "stdout",
     "output_type": "stream",
     "text": [
      "Enter X value: 10\n",
      "Enter Y value: 20\n",
      "The value of X is 10 & value of Y is 20\n",
      "The value of X is 20 & value of Y is 10\n"
     ]
    }
   ],
   "source": [
    "x = input(\"Enter X value: \")\n",
    "y = input(\"Enter Y value: \")\n",
    "\n",
    "print(f\"The value of X is {x} & value of Y is {y}\")\n",
    "\n",
    "x,y = y,x\n",
    "\n",
    "print(f\"The value of X is {x} & value of Y is {y}\")"
   ]
  },
  {
   "cell_type": "code",
   "execution_count": null,
   "id": "138be820",
   "metadata": {},
   "outputs": [],
   "source": []
  }
 ],
 "metadata": {
  "kernelspec": {
   "display_name": "Python 3 (ipykernel)",
   "language": "python",
   "name": "python3"
  },
  "language_info": {
   "codemirror_mode": {
    "name": "ipython",
    "version": 3
   },
   "file_extension": ".py",
   "mimetype": "text/x-python",
   "name": "python",
   "nbconvert_exporter": "python",
   "pygments_lexer": "ipython3",
   "version": "3.9.7"
  }
 },
 "nbformat": 4,
 "nbformat_minor": 5
}
