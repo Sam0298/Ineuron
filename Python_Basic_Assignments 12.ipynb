{
 "cells": [
  {
   "cell_type": "markdown",
   "id": "7f6260f9",
   "metadata": {},
   "source": [
    "In what modes should the PdfFileReader() and PdfFileWriter() File objects will be opened?"
   ]
  },
  {
   "cell_type": "code",
   "execution_count": null,
   "id": "29a9948c",
   "metadata": {},
   "outputs": [],
   "source": [
    "PdfFileReader() needs to be opened in read-binary mode by passing 'rb' as the second argument to open(). Likewise, the File\n",
    "object passed to PyPDF2. PdfFileWriter() needs to be opened in write-binary mode with 'wb'."
   ]
  },
  {
   "cell_type": "markdown",
   "id": "5cb7391c",
   "metadata": {},
   "source": [
    "From a PdfFileReader object, how do you get a Page object for page 5?"
   ]
  },
  {
   "cell_type": "code",
   "execution_count": null,
   "id": "3e2a59be",
   "metadata": {},
   "outputs": [],
   "source": [
    "Calling getPage(4) will return a page object for page 5, since page 0 is the first page."
   ]
  },
  {
   "cell_type": "markdown",
   "id": "d8fc32da",
   "metadata": {},
   "source": [
    "What PdfFileReader variable stores the number of pages in the PDF document?"
   ]
  },
  {
   "cell_type": "code",
   "execution_count": null,
   "id": "428739e4",
   "metadata": {},
   "outputs": [],
   "source": [
    "The total number of pages in the document is stored in the numPages variable of a PdfFileReader object."
   ]
  },
  {
   "cell_type": "markdown",
   "id": "c2305637",
   "metadata": {},
   "source": [
    "If a PdfFileReader object’s PDF is encrypted with the password swordfish, what must you do before you can obtain Page objects from it?"
   ]
  },
  {
   "cell_type": "code",
   "execution_count": null,
   "id": "1c0db80e",
   "metadata": {},
   "outputs": [],
   "source": [
    "To read an encrypted PDF, call the decrypt() function and pass the password as a string, in our case it is swordfish. \n",
    "After we call decrypt() with the correct password, you’ll see that calling getPage() no longer causes an error. Call \n",
    "decrypt('swordfish')."
   ]
  },
  {
   "cell_type": "markdown",
   "id": "905f3526",
   "metadata": {},
   "source": [
    "What methods do you use to rotate a page?"
   ]
  },
  {
   "cell_type": "code",
   "execution_count": null,
   "id": "0961c1b7",
   "metadata": {},
   "outputs": [],
   "source": [
    "The pages of a PDF can be rotated in 90-degree increments with the rotateClockwise() and rotateCounterClockwise() methods."
   ]
  },
  {
   "cell_type": "markdown",
   "id": "fedab974",
   "metadata": {},
   "source": [
    "What is the difference between a Run object and a Paragraph object?"
   ]
  },
  {
   "cell_type": "code",
   "execution_count": null,
   "id": "30a9e565",
   "metadata": {},
   "outputs": [],
   "source": [
    "A document contains multiple paragraphs. A paragraph begins on a new line and contains multiple runs. Runs are contiguous \n",
    "groups of charecters within a paragraph."
   ]
  },
  {
   "cell_type": "markdown",
   "id": "9d7f2c79",
   "metadata": {},
   "source": [
    "How do you obtain a list of Paragraph objects for a Document object that’s stored in a variable named doc?"
   ]
  },
  {
   "cell_type": "code",
   "execution_count": null,
   "id": "435b64f8",
   "metadata": {},
   "outputs": [],
   "source": [
    "len(doc.paragraphs)"
   ]
  },
  {
   "cell_type": "markdown",
   "id": "3552bab0",
   "metadata": {},
   "source": [
    "What type of object has bold, underline, italic, strike, and outline variables?"
   ]
  },
  {
   "cell_type": "code",
   "execution_count": null,
   "id": "39ca7d61",
   "metadata": {},
   "outputs": [],
   "source": [
    "Run Object"
   ]
  },
  {
   "cell_type": "markdown",
   "id": "128c5ff3",
   "metadata": {},
   "source": [
    "What is the difference between False, True, and None for the bold variable?"
   ]
  },
  {
   "cell_type": "code",
   "execution_count": null,
   "id": "fad1cb2f",
   "metadata": {},
   "outputs": [],
   "source": [
    "True always makes the run object bolded and False makes it always not bolded, no matter what the style's bold settings is.\n",
    "None will make the Run object just use the style's bold settings."
   ]
  },
  {
   "cell_type": "markdown",
   "id": "ef1541f1",
   "metadata": {},
   "source": [
    "How do you create a Document object for a new Word document?"
   ]
  },
  {
   "cell_type": "code",
   "execution_count": null,
   "id": "46559a04",
   "metadata": {},
   "outputs": [],
   "source": [
    "mydoc = docx.Document()"
   ]
  },
  {
   "cell_type": "markdown",
   "id": "cfe4e49a",
   "metadata": {},
   "source": [
    "How do you add a paragraph with the text 'Hello, there!' to a Document object stored in a variable named doc?"
   ]
  },
  {
   "cell_type": "code",
   "execution_count": null,
   "id": "8f9f0593",
   "metadata": {},
   "outputs": [],
   "source": [
    "doc.add_paragraph('Hello, there!')"
   ]
  },
  {
   "cell_type": "code",
   "execution_count": null,
   "id": "45a3de73",
   "metadata": {},
   "outputs": [],
   "source": [
    "What integers represent the levels of headings available in Word documents?"
   ]
  },
  {
   "cell_type": "code",
   "execution_count": null,
   "id": "6b92610e",
   "metadata": {},
   "outputs": [],
   "source": [
    "The arguments to add_heading() are a string of the heading text and an integer from 0 to 4. The integer 0 makes the heading\n",
    "the Title style, which is used for the top of the document. Integers 1 to 4 are for various heading levels, with 1 being the\n",
    "main heading and 4 the lowest subheading. The add_heading() function returns a Paragraph object to save you the step of \n",
    "extracting it from the Document object as a separate step."
   ]
  }
 ],
 "metadata": {
  "kernelspec": {
   "display_name": "Python 3 (ipykernel)",
   "language": "python",
   "name": "python3"
  },
  "language_info": {
   "codemirror_mode": {
    "name": "ipython",
    "version": 3
   },
   "file_extension": ".py",
   "mimetype": "text/x-python",
   "name": "python",
   "nbconvert_exporter": "python",
   "pygments_lexer": "ipython3",
   "version": "3.9.7"
  }
 },
 "nbformat": 4,
 "nbformat_minor": 5
}
