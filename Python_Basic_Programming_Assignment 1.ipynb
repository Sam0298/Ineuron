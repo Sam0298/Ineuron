{
 "cells": [
  {
   "cell_type": "code",
   "execution_count": null,
   "id": "21a0ea22",
   "metadata": {},
   "outputs": [],
   "source": [
    "# 1.Write a Python program to print \"Hello Python\"?"
   ]
  },
  {
   "cell_type": "code",
   "execution_count": 1,
   "id": "2812ebc1",
   "metadata": {},
   "outputs": [
    {
     "name": "stdout",
     "output_type": "stream",
     "text": [
      "Hello Python\n"
     ]
    }
   ],
   "source": [
    "print(\"Hello Python\")"
   ]
  },
  {
   "cell_type": "code",
   "execution_count": null,
   "id": "1728cecc",
   "metadata": {},
   "outputs": [],
   "source": [
    "# 2.Write a Python program to do arithmetical operations addition and division?"
   ]
  },
  {
   "cell_type": "code",
   "execution_count": 2,
   "id": "9913b7d6",
   "metadata": {},
   "outputs": [
    {
     "name": "stdout",
     "output_type": "stream",
     "text": [
      "Enter the First Number : 20\n",
      "Enter the Second Number : 10\n",
      "The addition is 30\n",
      "The division is 2.0\n"
     ]
    }
   ],
   "source": [
    "x = int(input(\"Enter the First Number : \"))\n",
    "y = int(input(\"Enter the Second Number : \"))\n",
    "\n",
    "print(f\"The addition is {x+y}\\nThe division is {x/y}\")"
   ]
  },
  {
   "cell_type": "code",
   "execution_count": null,
   "id": "7a0d30a1",
   "metadata": {},
   "outputs": [],
   "source": [
    "# 3.Write a Python program to find the area of a triangle?"
   ]
  },
  {
   "cell_type": "code",
   "execution_count": 3,
   "id": "6b8e8269",
   "metadata": {},
   "outputs": [
    {
     "name": "stdout",
     "output_type": "stream",
     "text": [
      "Enter the Base Value: 10\n",
      "Enter the Height value: 20\n",
      "Area of Triangel is 100.0\n"
     ]
    }
   ],
   "source": [
    "base = float(input(\"Enter the Base Value: \"))\n",
    "height = float(input(\"Enter the Height value: \"))\n",
    "\n",
    "area = 0.5*base*height\n",
    "\n",
    "print(f\"Area of Triangel is {area}\")"
   ]
  },
  {
   "cell_type": "code",
   "execution_count": null,
   "id": "c3251d3b",
   "metadata": {},
   "outputs": [],
   "source": [
    "# 5.Write a Python program to generate a random number?"
   ]
  },
  {
   "cell_type": "code",
   "execution_count": 4,
   "id": "8e8c296e",
   "metadata": {},
   "outputs": [
    {
     "name": "stdout",
     "output_type": "stream",
     "text": [
      "0.16985216529529534\n"
     ]
    }
   ],
   "source": [
    "import random\n",
    "n = random.random()\n",
    "\n",
    "print(n)"
   ]
  },
  {
   "cell_type": "code",
   "execution_count": null,
   "id": "9228d10f",
   "metadata": {},
   "outputs": [],
   "source": [
    "# 4.Write a Python program to swap two variables?"
   ]
  },
  {
   "cell_type": "code",
   "execution_count": 6,
   "id": "b5fdf2d2",
   "metadata": {},
   "outputs": [
    {
     "name": "stdout",
     "output_type": "stream",
     "text": [
      "Enter the first number: 10\n",
      "Enter the second number: 20\n",
      "The value of X before swapping is 10\n",
      "The value of Y before swapping is 20\n",
      "The value of X after swapping is 20\n",
      "The value of Y after swapping is 10\n"
     ]
    }
   ],
   "source": [
    "x = int(input(\"Enter the first number: \"))\n",
    "y = int(input(\"Enter the second number: \"))\n",
    "\n",
    "print(f\"The value of X before swapping is {x}\\nThe value of Y before swapping is {y}\")\n",
    "\n",
    "data = x\n",
    "x=y\n",
    "y=data\n",
    "\n",
    "print(f\"The value of X after swapping is {x}\\nThe value of Y after swapping is {y}\")"
   ]
  },
  {
   "cell_type": "code",
   "execution_count": null,
   "id": "2b5fb00b",
   "metadata": {},
   "outputs": [],
   "source": []
  }
 ],
 "metadata": {
  "kernelspec": {
   "display_name": "Python 3 (ipykernel)",
   "language": "python",
   "name": "python3"
  },
  "language_info": {
   "codemirror_mode": {
    "name": "ipython",
    "version": 3
   },
   "file_extension": ".py",
   "mimetype": "text/x-python",
   "name": "python",
   "nbconvert_exporter": "python",
   "pygments_lexer": "ipython3",
   "version": "3.9.7"
  }
 },
 "nbformat": 4,
 "nbformat_minor": 5
}
