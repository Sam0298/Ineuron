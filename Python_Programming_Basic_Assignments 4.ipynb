{
 "cells": [
  {
   "cell_type": "code",
   "execution_count": null,
   "id": "7864aa7a",
   "metadata": {},
   "outputs": [],
   "source": [
    "# Write a Python Program to Find the Factorial of a Number?"
   ]
  },
  {
   "cell_type": "code",
   "execution_count": 4,
   "id": "296daf58",
   "metadata": {},
   "outputs": [
    {
     "name": "stdout",
     "output_type": "stream",
     "text": [
      "Enter the Number: 10\n",
      "The Factorial of  10  is  3628800\n"
     ]
    }
   ],
   "source": [
    "number = int(input(\"Enter the Number: \"))\n",
    "factorial=1\n",
    "\n",
    "for i in range(1,number+1):\n",
    "    factorial*=i\n",
    "    \n",
    "print(\"The Factorial of \",number,\" is \",factorial)"
   ]
  },
  {
   "cell_type": "code",
   "execution_count": null,
   "id": "984c8675",
   "metadata": {},
   "outputs": [],
   "source": [
    "# Write a Python Program to Display the multiplication Table?"
   ]
  },
  {
   "cell_type": "code",
   "execution_count": 7,
   "id": "bf453844",
   "metadata": {},
   "outputs": [
    {
     "name": "stdout",
     "output_type": "stream",
     "text": [
      "Enter the Number: 63\n",
      "63  x  1 = 63\n",
      "63  x  2 = 126\n",
      "63  x  3 = 189\n",
      "63  x  4 = 252\n",
      "63  x  5 = 315\n",
      "63  x  6 = 378\n",
      "63  x  7 = 441\n",
      "63  x  8 = 504\n",
      "63  x  9 = 567\n",
      "63  x  10 = 630\n"
     ]
    }
   ],
   "source": [
    "num = int(input(\"Enter the Number: \"))\n",
    "\n",
    "for i in range(1,11):\n",
    "    print(num,\" x \",i,\"=\",num*i)"
   ]
  },
  {
   "cell_type": "code",
   "execution_count": null,
   "id": "90b004a6",
   "metadata": {},
   "outputs": [],
   "source": [
    "# Write a Python Program to Print the Fibonacci sequence?"
   ]
  },
  {
   "cell_type": "code",
   "execution_count": 1,
   "id": "31431048",
   "metadata": {},
   "outputs": [
    {
     "name": "stdout",
     "output_type": "stream",
     "text": [
      "How many terms the user wants to print: 10\n",
      "The fibonacci sequence of the numbers is:\n",
      "0 1 1 2 3 5 8 13 21 34 "
     ]
    }
   ],
   "source": [
    "terms = int(input (\"How many terms the user wants to print: \"))  \n",
    "      \n",
    "        \n",
    "num1 = 0  \n",
    "num2 = 1  \n",
    "count = 0  \n",
    "    \n",
    "if terms <= 0:  \n",
    "    print (\"Please enter a positive integer, the given number is not valid\")  \n",
    "\n",
    "elif terms == 1:  \n",
    "    print (\"The Fibonacci sequence of the numbers up to\", terms, \": \")  \n",
    "    print(num1, end=\" \")  \n",
    "\n",
    "else:  \n",
    "    print (\"The fibonacci sequence of the numbers is:\")  \n",
    "    while count < terms:  \n",
    "        print(num1, end=\" \")  \n",
    "        num = num1 + num2  \n",
    "       # At last, we will update values  \n",
    "        num1 = num2  \n",
    "        num2 = num  \n",
    "        count += 1  "
   ]
  },
  {
   "cell_type": "code",
   "execution_count": null,
   "id": "4c7c9a7d",
   "metadata": {},
   "outputs": [],
   "source": [
    "# Write a Python Program to Check Armstrong Number?"
   ]
  },
  {
   "cell_type": "code",
   "execution_count": 31,
   "id": "f7be5b85",
   "metadata": {},
   "outputs": [
    {
     "name": "stdout",
     "output_type": "stream",
     "text": [
      "Enter the Value: 1634\n",
      "1634 is a Armstrong Number\n"
     ]
    }
   ],
   "source": [
    "number = input(\"Enter the Value: \")\n",
    "\n",
    "sum_number = 0\n",
    "\n",
    "for i in range(len(number)):\n",
    "    sum_number+= int(number[i])**len(number)\n",
    "    \n",
    "if sum_number == int(number):\n",
    "    print(number+\" is a Armstrong Number\")\n",
    "\n",
    "else:\n",
    "    print(number+\" is not a Armstrong Number\")    "
   ]
  },
  {
   "cell_type": "code",
   "execution_count": null,
   "id": "be47f3f6",
   "metadata": {},
   "outputs": [],
   "source": [
    "# Write a Python Program to Find Armstrong Number in an Interval?"
   ]
  },
  {
   "cell_type": "code",
   "execution_count": 12,
   "id": "bfa16c98",
   "metadata": {},
   "outputs": [
    {
     "name": "stdout",
     "output_type": "stream",
     "text": [
      "Enter the Lower Value : 100\n",
      "Enter the Higher Value : 2000\n",
      "List of Armstrong Number : \n",
      "153\n",
      "370\n",
      "371\n",
      "407\n",
      "1634\n"
     ]
    }
   ],
   "source": [
    "lower = int(input(\"Enter the Lower Value : \"))\n",
    "upper = int(input(\"Enter the Higher Value : \"))\n",
    "\n",
    "print(\"List of Armstrong Number : \")\n",
    "\n",
    "for num in range(lower, upper + 1):\n",
    "\n",
    "   # initialize sum\n",
    "    sum = 0\n",
    "\n",
    "    temp = num\n",
    "    while temp > 0:\n",
    "        digit = temp % 10\n",
    "        sum += digit ** len(str(num))\n",
    "        temp //= 10\n",
    "\n",
    "    if num == sum:\n",
    "        print(num)"
   ]
  },
  {
   "cell_type": "code",
   "execution_count": null,
   "id": "30699317",
   "metadata": {},
   "outputs": [],
   "source": [
    "# Write a Python Program to Find the Sum of Natural Numbers?"
   ]
  },
  {
   "cell_type": "code",
   "execution_count": 5,
   "id": "2e674e95",
   "metadata": {},
   "outputs": [
    {
     "name": "stdout",
     "output_type": "stream",
     "text": [
      "Enter Highest Natural Number: 3000\n",
      "The is Sum is 4501500\n"
     ]
    }
   ],
   "source": [
    "number = int(input(\"Enter Highest Natural Number: \"))\n",
    "\n",
    "if number < 0:\n",
    "   print(\"Enter a positive number\")\n",
    "else:\n",
    "   sum = 0\n",
    "   while(0 < number):\n",
    "       sum += number\n",
    "       number -= 1\n",
    "   print(f\"The is Sum is {sum}\")\n",
    "    "
   ]
  }
 ],
 "metadata": {
  "kernelspec": {
   "display_name": "Python 3 (ipykernel)",
   "language": "python",
   "name": "python3"
  },
  "language_info": {
   "codemirror_mode": {
    "name": "ipython",
    "version": 3
   },
   "file_extension": ".py",
   "mimetype": "text/x-python",
   "name": "python",
   "nbconvert_exporter": "python",
   "pygments_lexer": "ipython3",
   "version": "3.9.7"
  }
 },
 "nbformat": 4,
 "nbformat_minor": 5
}
