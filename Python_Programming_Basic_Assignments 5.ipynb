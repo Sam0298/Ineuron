{
 "cells": [
  {
   "cell_type": "code",
   "execution_count": 1,
   "id": "e5dd6f22",
   "metadata": {},
   "outputs": [],
   "source": [
    "# Write a Python Program to Find LCM?"
   ]
  },
  {
   "cell_type": "code",
   "execution_count": 2,
   "id": "957b0182",
   "metadata": {},
   "outputs": [
    {
     "name": "stdout",
     "output_type": "stream",
     "text": [
      "Enter the First Number: 12\n",
      "Enter the Second Number: 14\n",
      "The LCM of 12 and 14 is 84\n"
     ]
    }
   ],
   "source": [
    "num1 = int(input(\"Enter the First Number: \"))\n",
    "num2 = int(input(\"Enter the Second Number: \"))\n",
    "\n",
    "if num1 > num2:\n",
    "    minimum = num1\n",
    "    \n",
    "else:\n",
    "    minimum = num2\n",
    "    \n",
    "while(True):\n",
    "    if minimum%num1 == 0 and minimum%num2 == 0:\n",
    "        print(\"The LCM of\",num1,\"and\",num2,\"is\",minimum)\n",
    "        break\n",
    "        \n",
    "    minimum+=1\n",
    "    "
   ]
  },
  {
   "cell_type": "code",
   "execution_count": 3,
   "id": "84a5e2c1",
   "metadata": {},
   "outputs": [],
   "source": [
    "# Write a Python Program to Find HCF?"
   ]
  },
  {
   "cell_type": "code",
   "execution_count": 4,
   "id": "40786460",
   "metadata": {},
   "outputs": [
    {
     "name": "stdout",
     "output_type": "stream",
     "text": [
      "Enter the First Number: 12\n",
      "Enter the Second Number: 14\n",
      "The HCF of 12 and 14 is 2\n"
     ]
    }
   ],
   "source": [
    "num1 = int(input(\"Enter the First Number: \"))\n",
    "num2 = int(input(\"Enter the Second Number: \"))\n",
    "\n",
    "if num1 > num2:\n",
    "    maximum = num1\n",
    "    \n",
    "else:\n",
    "    maximum = num2\n",
    "    \n",
    "for i in range(1,maximum+1):\n",
    "    if num1%i == 0 and num2%i == 0:\n",
    "        hcl = i\n",
    "\n",
    "print(\"The HCF of\",num1,\"and\",num2,\"is\",hcl)"
   ]
  },
  {
   "cell_type": "code",
   "execution_count": 5,
   "id": "25381dee",
   "metadata": {},
   "outputs": [],
   "source": [
    "# Write a Python Program to Convert Decimal to Binary, Octal and Hexadecimal?"
   ]
  },
  {
   "cell_type": "code",
   "execution_count": 6,
   "id": "1703f14c",
   "metadata": {},
   "outputs": [
    {
     "name": "stdout",
     "output_type": "stream",
     "text": [
      "Enter the Number : 13\n",
      "13 number to Binary is 0b1101\n",
      "13 number to Octal is 0o15\n",
      "13 number to Hexadecimal is 0xd\n"
     ]
    }
   ],
   "source": [
    "dec_number = int(input(\"Enter the Number : \"))\n",
    "\n",
    "print(dec_number,\"number to Binary is\",bin(dec_number))\n",
    "print(dec_number,\"number to Octal is\",oct(dec_number))\n",
    "print(dec_number,\"number to Hexadecimal is\",hex(dec_number))"
   ]
  },
  {
   "cell_type": "code",
   "execution_count": 7,
   "id": "87510d17",
   "metadata": {},
   "outputs": [],
   "source": [
    "# Write a Python Program To Find ASCII value of a character?"
   ]
  },
  {
   "cell_type": "code",
   "execution_count": 8,
   "id": "99214155",
   "metadata": {},
   "outputs": [
    {
     "name": "stdout",
     "output_type": "stream",
     "text": [
      "Enter the Character: S\n",
      "The ASCII value of 'S' is 83\n"
     ]
    }
   ],
   "source": [
    "character = input(\"Enter the Character: \")\n",
    "\n",
    "print(\"The ASCII value of \\'\"+character+\"\\' is\",ord(character))"
   ]
  },
  {
   "cell_type": "code",
   "execution_count": 9,
   "id": "88e787aa",
   "metadata": {},
   "outputs": [],
   "source": [
    "# Write a Python Program to Make a Simple Calculator with 4 basic mathematical operations?"
   ]
  },
  {
   "cell_type": "code",
   "execution_count": 10,
   "id": "e01f4c47",
   "metadata": {},
   "outputs": [
    {
     "name": "stdout",
     "output_type": "stream",
     "text": [
      "Select operation.\n",
      "1.Add\n",
      "2.Subtract\n",
      "3.Multiply\n",
      "4.Divide\n",
      "\n",
      "Select the Operation Choice: 1\n",
      "Enter the First Value: 12\n",
      "Enter the Second Value: 14\n",
      "12 + 14 = 26\n",
      "Let's do next calculation? (yes/no): no\n"
     ]
    }
   ],
   "source": [
    "def add(val1,val2):\n",
    "    return val1+val2\n",
    "\n",
    "def substract(val1,val2):\n",
    "    return val1-val2\n",
    "\n",
    "def multiply(val1,val2):\n",
    "    return val1*val2\n",
    "\n",
    "def division(val1,val2):\n",
    "    return val1/val2\n",
    "\n",
    "\n",
    "print(\"Select operation.\")\n",
    "print(\"1.Add\")\n",
    "print(\"2.Subtract\")\n",
    "print(\"3.Multiply\")\n",
    "print(\"4.Divide\\n\") \n",
    "\n",
    "\n",
    "while True:\n",
    "\n",
    "    choice = input(\"Select the Operation Choice: \")\n",
    "    \n",
    "    if choice in ('1','2','3','4'):\n",
    "        \n",
    "        num1 = int(input(\"Enter the First Value: \"))\n",
    "        num2 = int(input(\"Enter the Second Value: \"))\n",
    "        \n",
    "        if choice == '1':\n",
    "            print(num1,\"+\",num2,\"=\",add(num1,num2))\n",
    "            \n",
    "        elif choice == '2':\n",
    "            print(num1,\"-\",num2,\"=\",substract(num1,num2))\n",
    "            \n",
    "        elif choice == '3':\n",
    "            print(num1,\"x\",num2,\"=\",multiply(num1,num2))\n",
    "            \n",
    "        elif choice == '4':\n",
    "            print(num1,\"/\",num2,\"=\",division(num1,num2))\n",
    "            \n",
    "        next_calculation = input(\"Let's do next calculation? (yes/no): \")\n",
    "        if next_calculation == \"no\":\n",
    "            break\n",
    "    \n",
    "    else:\n",
    "        print(\"Invalid Input\")\n",
    "        break"
   ]
  },
  {
   "cell_type": "code",
   "execution_count": null,
   "id": "94502860",
   "metadata": {},
   "outputs": [],
   "source": []
  }
 ],
 "metadata": {
  "kernelspec": {
   "display_name": "Python 3 (ipykernel)",
   "language": "python",
   "name": "python3"
  },
  "language_info": {
   "codemirror_mode": {
    "name": "ipython",
    "version": 3
   },
   "file_extension": ".py",
   "mimetype": "text/x-python",
   "name": "python",
   "nbconvert_exporter": "python",
   "pygments_lexer": "ipython3",
   "version": "3.9.7"
  }
 },
 "nbformat": 4,
 "nbformat_minor": 5
}
