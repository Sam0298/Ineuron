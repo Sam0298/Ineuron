{
 "cells": [
  {
   "cell_type": "markdown",
   "id": "a4bd5073",
   "metadata": {},
   "source": [
    "2. What is the difference between string and variable?"
   ]
  },
  {
   "cell_type": "code",
   "execution_count": null,
   "id": "1983b4b9",
   "metadata": {},
   "outputs": [],
   "source": [
    "# A Variable is a store of information, and a String is a type of information you would store in a Variable. \n",
    "# A String is usually words, enclosed with single quote (''), double quote (\"\")\n",
    "\n",
    "# Eg\n",
    "# String x =\"Welcome to iNeuron\""
   ]
  },
  {
   "cell_type": "markdown",
   "id": "f7271778",
   "metadata": {},
   "source": [
    "1. In the below elements which of them are values or an expression? eg:- values can be\n",
    "integer or string and expressions will be mathematical operators.\n",
    "*\n",
    "'hello'\n",
    "-87.8\n",
    "-\n",
    "/\n",
    "+\n",
    "6"
   ]
  },
  {
   "cell_type": "code",
   "execution_count": null,
   "id": "bf6e3c2a",
   "metadata": {},
   "outputs": [],
   "source": [
    "# Answer: \n",
    "\n",
    "# * : Expression\n",
    "# 'hello' : Value\n",
    "# -87.8 : Value\n",
    "# - : Expression\n",
    "# / : Expression\n",
    "# + : Expression\n",
    "# 6 : Value"
   ]
  },
  {
   "cell_type": "markdown",
   "id": "923e0436",
   "metadata": {},
   "source": [
    "3. Describe three different data types."
   ]
  },
  {
   "cell_type": "markdown",
   "id": "f3c05855",
   "metadata": {},
   "source": [
    "Answer:\n",
    "\n",
    "The three different Data types are given below:\n",
    "\n",
    "1. String : A String is a sequence of Unicode characters.Strings are represented by using Double quotes or single quotes.\n",
    "            All the characters between the quotes are items of the string.\n",
    "            \n",
    "2. Boolean : There can be only two types of value in the Boolean data type of Python, and that is True or False.\n",
    "\n",
    "3. Numeric : numeric data type represent the data which has numeric value. Numeric value can be integer, floating number \n",
    "             or even complex numbers. These values are defined as int, float and complex.\n",
    "             \n",
    "             a. Integer: This value is represented by int class. It contains positive or negative whole numbers.\n",
    "             b. Float : This value is represented by float class. It is a real number with floating point representation.\n",
    "                        It is specified by a decimal point.\n",
    "             c. Complex : Complex number is represented by complex class. \n",
    "                          It is specified as (real part) + (imaginary part)j. For example – 2+3j"
   ]
  },
  {
   "cell_type": "markdown",
   "id": "2e8fb0cc",
   "metadata": {},
   "source": [
    "4. What is an expression made up of? What do all expressions do?"
   ]
  },
  {
   "cell_type": "markdown",
   "id": "8d54d6c4",
   "metadata": {},
   "source": [
    "An expression is a construct made up of variables, operators, and method invocations, which are constructed according to the syntax of the language, that evaluates to a single value.\n",
    "\n",
    "Constant Expressions: These are the expressions that have constant values only.\n",
    "Arithmetic Expressions: An arithmetic expression is a combination of numeric values, operators, and sometimes\n",
    "                           parenthesis. The result of this type of expression is also a numeric value.\n",
    "Integral Expressions: These are the kind of expressions that produce only integer results after all computations and\n",
    "                         type conversions.\n",
    "Floating Expressions: These are the kind of expressions which produce floating point numbers as result after all\n",
    "                         computations and type conversions.\n",
    "Relational Expressions: In these types of expressions, arithmetic expressions are written on both sides of relational\n",
    "                           operator (> , < , >= , <=).\n",
    "Logical Expressions: These are kinds of expressions that result in either True or False. It basically specifies one or\n",
    "                        more conditions. "
   ]
  },
  {
   "cell_type": "markdown",
   "id": "a0aa9d77",
   "metadata": {},
   "source": [
    "5. This assignment statements, like spam = 10. What is the difference between an expression and a statement?"
   ]
  },
  {
   "cell_type": "markdown",
   "id": "cbf1308e",
   "metadata": {},
   "source": [
    "Expression is made up of values, containers, and mathematical operators (operands) and the statement is just like a command that a python interpreter executes like print."
   ]
  },
  {
   "cell_type": "markdown",
   "id": "bdfaeb3c",
   "metadata": {},
   "source": [
    "6. After running the following code, what does the variable bacon contain?\n",
    "bacon = 22 \n",
    "bacon + 1"
   ]
  },
  {
   "cell_type": "code",
   "execution_count": 3,
   "id": "a0f79af2",
   "metadata": {},
   "outputs": [
    {
     "data": {
      "text/plain": [
       "23"
      ]
     },
     "execution_count": 3,
     "metadata": {},
     "output_type": "execute_result"
    }
   ],
   "source": [
    "bacon = 22\n",
    "\n",
    "bacon +1"
   ]
  },
  {
   "cell_type": "markdown",
   "id": "c1a8f21b",
   "metadata": {},
   "source": [
    "7. What should the values of the following two terms be?\n",
    "'spam' + 'spamspam'   \n",
    "'spam' * 3"
   ]
  },
  {
   "cell_type": "markdown",
   "id": "e452e886",
   "metadata": {},
   "source": [
    "Both term will be the same"
   ]
  },
  {
   "cell_type": "code",
   "execution_count": 5,
   "id": "caa754de",
   "metadata": {},
   "outputs": [
    {
     "name": "stdout",
     "output_type": "stream",
     "text": [
      "spamspamspam\n",
      "spamspamspam\n"
     ]
    }
   ],
   "source": [
    "print('spam'+'spamspam')\n",
    "\n",
    "print('spam'*3)"
   ]
  },
  {
   "cell_type": "markdown",
   "id": "df40d580",
   "metadata": {},
   "source": [
    "8. Why is eggs a valid variable name while 100 is invalid?"
   ]
  },
  {
   "cell_type": "markdown",
   "id": "e6c263de",
   "metadata": {},
   "source": [
    "Because we can't start giving variable an integer name. if we, we should begin with, a string-like alphabet name then integer. e100 or eggs100 is valid"
   ]
  },
  {
   "cell_type": "markdown",
   "id": "d2405bed",
   "metadata": {},
   "source": [
    "9. What three functions can be used to get the integer, floating-point number, or string \n",
    "version of a value?"
   ]
  },
  {
   "cell_type": "markdown",
   "id": "694d3a03",
   "metadata": {},
   "source": [
    "str() is used for String, \n",
    "int() is used for Interger, \n",
    "float() is used for Floating-point"
   ]
  },
  {
   "cell_type": "markdown",
   "id": "71570116",
   "metadata": {},
   "source": [
    "10. Why does this expression cause an error? How can you fix it?\n",
    "'I have eaten'+ 99 + 'burritos.'"
   ]
  },
  {
   "cell_type": "markdown",
   "id": "38a5621e",
   "metadata": {},
   "source": [
    "Because 99 is an integer it cannot be concatenated with strings, if we have to concatenate it we need to do typecasting."
   ]
  }
 ],
 "metadata": {
  "kernelspec": {
   "display_name": "Python 3 (ipykernel)",
   "language": "python",
   "name": "python3"
  },
  "language_info": {
   "codemirror_mode": {
    "name": "ipython",
    "version": 3
   },
   "file_extension": ".py",
   "mimetype": "text/x-python",
   "name": "python",
   "nbconvert_exporter": "python",
   "pygments_lexer": "ipython3",
   "version": "3.9.7"
  }
 },
 "nbformat": 4,
 "nbformat_minor": 5
}
