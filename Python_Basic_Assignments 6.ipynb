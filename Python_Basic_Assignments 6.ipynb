{
 "cells": [
  {
   "cell_type": "markdown",
   "id": "6a807b4d",
   "metadata": {},
   "source": [
    "What are escape characters, and how do you use them?"
   ]
  },
  {
   "cell_type": "code",
   "execution_count": null,
   "id": "c3460c40",
   "metadata": {},
   "outputs": [],
   "source": [
    "Escape characters represent characters in string values that would otherwise be difficult or impossible to type into code. The escape character allows yus to use double quotes when you normally would not be allowed."
   ]
  },
  {
   "cell_type": "code",
   "execution_count": 2,
   "id": "3c915eee",
   "metadata": {},
   "outputs": [
    {
     "name": "stdout",
     "output_type": "stream",
     "text": [
      "We celebrate \"Independent Day\" on 15th August\n"
     ]
    }
   ],
   "source": [
    "data = \"We celebrate \\\"Independent Day\\\" on 15th August\"\n",
    "print(data) "
   ]
  },
  {
   "cell_type": "markdown",
   "id": "188690b6",
   "metadata": {},
   "source": [
    "What do the escape characters n and t stand for?"
   ]
  },
  {
   "cell_type": "code",
   "execution_count": null,
   "id": "59b20d4b",
   "metadata": {},
   "outputs": [],
   "source": [
    "The escape characters n and t stand for newline and tab respectively. \\n is a newline; \\t is a tab"
   ]
  },
  {
   "cell_type": "markdown",
   "id": "896b7953",
   "metadata": {},
   "source": [
    "What is the way to include backslash characters in a string?"
   ]
  },
  {
   "cell_type": "code",
   "execution_count": null,
   "id": "043782a6",
   "metadata": {},
   "outputs": [],
   "source": [
    "The \\ escape character will represent a backslash character."
   ]
  },
  {
   "cell_type": "markdown",
   "id": "d724bcec",
   "metadata": {},
   "source": [
    "The string \"Howl's Moving Castle\" is a correct value. Why isn't the single quote character in the word Howl's not escaped a problem?"
   ]
  },
  {
   "cell_type": "code",
   "execution_count": null,
   "id": "0f1f3a54",
   "metadata": {},
   "outputs": [],
   "source": [
    "The single quote in Howl's is fine because we have used double quotes to mark the beginning and end of the string."
   ]
  },
  {
   "cell_type": "markdown",
   "id": "02be0820",
   "metadata": {},
   "source": [
    "How do you write a string of newlines if you don't want to use the n character?"
   ]
  },
  {
   "cell_type": "code",
   "execution_count": null,
   "id": "c94c7033",
   "metadata": {},
   "outputs": [],
   "source": [
    "Multiline strings allow us to use newlines in strings without the \\n escape character."
   ]
  },
  {
   "cell_type": "markdown",
   "id": "4c80b380",
   "metadata": {},
   "source": [
    "What are the values of the given expressions?\n",
    "\n",
    "1. 'Hello, world!'[1]\n",
    "2. 'Hello, world!'[0:5]\n",
    "3. 'Hello, world!'[:5]\n",
    "4. 'Hello, world!'[3:]"
   ]
  },
  {
   "cell_type": "code",
   "execution_count": 3,
   "id": "6da787ad",
   "metadata": {},
   "outputs": [
    {
     "data": {
      "text/plain": [
       "'e'"
      ]
     },
     "execution_count": 3,
     "metadata": {},
     "output_type": "execute_result"
    }
   ],
   "source": [
    "'Hello, world!'[1]"
   ]
  },
  {
   "cell_type": "code",
   "execution_count": 4,
   "id": "b6bccbce",
   "metadata": {},
   "outputs": [
    {
     "data": {
      "text/plain": [
       "'Hello'"
      ]
     },
     "execution_count": 4,
     "metadata": {},
     "output_type": "execute_result"
    }
   ],
   "source": [
    "'Hello, world!'[0:5]"
   ]
  },
  {
   "cell_type": "code",
   "execution_count": 5,
   "id": "712dc1c4",
   "metadata": {},
   "outputs": [
    {
     "data": {
      "text/plain": [
       "'Hello'"
      ]
     },
     "execution_count": 5,
     "metadata": {},
     "output_type": "execute_result"
    }
   ],
   "source": [
    "'Hello, world!'[:5]"
   ]
  },
  {
   "cell_type": "code",
   "execution_count": 6,
   "id": "6518134f",
   "metadata": {},
   "outputs": [
    {
     "data": {
      "text/plain": [
       "'lo, world!'"
      ]
     },
     "execution_count": 6,
     "metadata": {},
     "output_type": "execute_result"
    }
   ],
   "source": [
    "'Hello, world!'[3:]"
   ]
  },
  {
   "cell_type": "markdown",
   "id": "4694342d",
   "metadata": {},
   "source": [
    "What are the values of the following expressions?\n",
    "\n",
    "1. 'Hello'.upper()\n",
    "2. 'Hello'.upper().isupper()\n",
    "3. 'Hello'.upper().lower()"
   ]
  },
  {
   "cell_type": "code",
   "execution_count": 7,
   "id": "c526a02f",
   "metadata": {},
   "outputs": [
    {
     "data": {
      "text/plain": [
       "'HELLO'"
      ]
     },
     "execution_count": 7,
     "metadata": {},
     "output_type": "execute_result"
    }
   ],
   "source": [
    "'Hello'.upper()"
   ]
  },
  {
   "cell_type": "code",
   "execution_count": 8,
   "id": "cbdeec68",
   "metadata": {},
   "outputs": [
    {
     "data": {
      "text/plain": [
       "True"
      ]
     },
     "execution_count": 8,
     "metadata": {},
     "output_type": "execute_result"
    }
   ],
   "source": [
    "'Hello'.upper().isupper()"
   ]
  },
  {
   "cell_type": "code",
   "execution_count": 9,
   "id": "9438e07d",
   "metadata": {},
   "outputs": [
    {
     "data": {
      "text/plain": [
       "'hello'"
      ]
     },
     "execution_count": 9,
     "metadata": {},
     "output_type": "execute_result"
    }
   ],
   "source": [
    "'Hello'.upper().lower()"
   ]
  },
  {
   "cell_type": "markdown",
   "id": "eb998c56",
   "metadata": {},
   "source": [
    "What are the values of the following expressions?\n",
    "\n",
    "1. 'Remember, remember, the fifth of July.'.split()\n",
    "2. '-'.join('There can only one.'.split())"
   ]
  },
  {
   "cell_type": "code",
   "execution_count": 10,
   "id": "1e87d120",
   "metadata": {},
   "outputs": [
    {
     "data": {
      "text/plain": [
       "['Remember,', 'remember,', 'the', 'fifth', 'of', 'July.']"
      ]
     },
     "execution_count": 10,
     "metadata": {},
     "output_type": "execute_result"
    }
   ],
   "source": [
    "'Remember, remember, the fifth of July.'.split()"
   ]
  },
  {
   "cell_type": "code",
   "execution_count": 11,
   "id": "d7d4e07a",
   "metadata": {},
   "outputs": [
    {
     "data": {
      "text/plain": [
       "'There-can-only-one.'"
      ]
     },
     "execution_count": 11,
     "metadata": {},
     "output_type": "execute_result"
    }
   ],
   "source": [
    "'-'.join('There can only one.'.split())"
   ]
  },
  {
   "cell_type": "markdown",
   "id": "b561725b",
   "metadata": {},
   "source": [
    "What are the methods for right-justifying, left-justifying, and centering a string?"
   ]
  },
  {
   "cell_type": "code",
   "execution_count": null,
   "id": "f1c2057b",
   "metadata": {},
   "outputs": [],
   "source": [
    "The rjust(), ljust(), and center() string methods, respectively are the methods for right-justifying, left-justifying, and centering a string"
   ]
  },
  {
   "cell_type": "markdown",
   "id": "6ea3c66a",
   "metadata": {},
   "source": [
    "What is the best way to remove whitespace characters from the start or end?"
   ]
  },
  {
   "cell_type": "code",
   "execution_count": null,
   "id": "90008e7c",
   "metadata": {},
   "outputs": [],
   "source": [
    "The lstrip() and rstrip() methods remove whitespace from the left and right ends of a string, respectively."
   ]
  }
 ],
 "metadata": {
  "kernelspec": {
   "display_name": "Python 3 (ipykernel)",
   "language": "python",
   "name": "python3"
  },
  "language_info": {
   "codemirror_mode": {
    "name": "ipython",
    "version": 3
   },
   "file_extension": ".py",
   "mimetype": "text/x-python",
   "name": "python",
   "nbconvert_exporter": "python",
   "pygments_lexer": "ipython3",
   "version": "3.9.7"
  }
 },
 "nbformat": 4,
 "nbformat_minor": 5
}
